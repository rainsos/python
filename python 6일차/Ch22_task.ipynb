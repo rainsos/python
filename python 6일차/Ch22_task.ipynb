{
 "cells": [
  {
   "cell_type": "markdown",
   "metadata": {
    "id": "FPkXU20UhStu"
   },
   "source": [
    "`여러 숫자를 입력받아 그 합계를 반환하는 함수 sum_numbers를 작성하세요. 이 때, 가변 매개변수를 사용하세요.`"
   ]
  },
  {
   "cell_type": "code",
   "execution_count": 6,
   "metadata": {
    "colab": {
     "base_uri": "https://localhost:8080/"
    },
    "executionInfo": {
     "elapsed": 9,
     "status": "ok",
     "timestamp": 1741869811606,
     "user": {
      "displayName": "찬스맨",
      "userId": "03876603254483635588"
     },
     "user_tz": -540
    },
    "id": "yzDe3voUhZL3",
    "outputId": "bbbd4b4d-3fa6-460a-a499-e408ca35b3b5"
   },
   "outputs": [
    {
     "name": "stdout",
     "output_type": "stream",
     "text": [
      "16\n"
     ]
    }
   ],
   "source": [
    "def sum_numbers(*numbers):\n",
    "    return sum(numbers)\n",
    "\n",
    "print (sum_numbers(1,3,5,7))\n"
   ]
  },
  {
   "cell_type": "markdown",
   "metadata": {
    "id": "7A2Ar08ohSt4"
   },
   "source": []
  }
 ],
 "metadata": {
  "colab": {
   "provenance": []
  },
  "kernelspec": {
   "display_name": "Python 3",
   "name": "python3"
  },
  "language_info": {
   "name": "python"
  }
 },
 "nbformat": 4,
 "nbformat_minor": 0
}
